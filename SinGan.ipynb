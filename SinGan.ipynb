{
  "nbformat": 4,
  "nbformat_minor": 0,
  "metadata": {
    "kernelspec": {
      "display_name": "Python 3",
      "language": "python",
      "name": "python3"
    },
    "language_info": {
      "codemirror_mode": {
        "name": "ipython",
        "version": 3
      },
      "file_extension": ".py",
      "mimetype": "text/x-python",
      "name": "python",
      "nbconvert_exporter": "python",
      "pygments_lexer": "ipython3",
      "version": "3.7.1"
    },
    "colab": {
      "name": "SinGan.ipynb",
      "provenance": [],
      "collapsed_sections": [],
      "toc_visible": true,
      "include_colab_link": true
    },
    "accelerator": "GPU"
  },
  "cells": [
    {
      "cell_type": "markdown",
      "metadata": {
        "id": "view-in-github",
        "colab_type": "text"
      },
      "source": [
        "<a href=\"https://colab.research.google.com/github/brenoskuk/recvis/blob/main/SinGan.ipynb\" target=\"_parent\"><img src=\"https://colab.research.google.com/assets/colab-badge.svg\" alt=\"Open In Colab\"/></a>"
      ]
    },
    {
      "cell_type": "markdown",
      "metadata": {
        "id": "j_pgCdAGl2M3"
      },
      "source": [
        "# SinGan project\r\n",
        "\r\n",
        "## MVA RecVis\r\n",
        "\r\n",
        "### Collaborators: Breno Skuk and Claudia Torres Pérez"
      ]
    },
    {
      "cell_type": "code",
      "metadata": {
        "id": "pM27IDT2mAXa"
      },
      "source": [
        "import numpy as np"
      ],
      "execution_count": 1,
      "outputs": []
    },
    {
      "cell_type": "code",
      "metadata": {
        "id": "YX8pMaE1pRCH",
        "colab": {
          "base_uri": "https://localhost:8080/"
        },
        "outputId": "a483e74b-0c6c-4e1e-e3a1-aeddc4d9d99c"
      },
      "source": [
        "!git clone https://github.com/tamarott/SinGAN.git"
      ],
      "execution_count": 2,
      "outputs": [
        {
          "output_type": "stream",
          "text": [
            "Cloning into 'SinGAN'...\n",
            "remote: Enumerating objects: 790, done.\u001b[K\n",
            "remote: Total 790 (delta 0), reused 0 (delta 0), pack-reused 790\u001b[K\n",
            "Receiving objects: 100% (790/790), 94.89 MiB | 51.79 MiB/s, done.\n",
            "Resolving deltas: 100% (304/304), done.\n"
          ],
          "name": "stdout"
        }
      ]
    },
    {
      "cell_type": "markdown",
      "metadata": {
        "id": "kbjKJ7mEVT6A"
      },
      "source": [
        "We need to change into the correct directory, then we install the required libraries"
      ]
    },
    {
      "cell_type": "code",
      "metadata": {
        "id": "vREQFmGZtjM1",
        "outputId": "2e6073e4-4c77-4ee8-a915-d808c70c0120",
        "colab": {
          "base_uri": "https://localhost:8080/"
        }
      },
      "source": [
        "%cd SinGAN"
      ],
      "execution_count": 3,
      "outputs": [
        {
          "output_type": "stream",
          "text": [
            "/content/SinGAN\n"
          ],
          "name": "stdout"
        }
      ]
    },
    {
      "cell_type": "code",
      "metadata": {
        "id": "tViBVdQQVScM",
        "outputId": "2f22c573-afa1-405c-b980-79fc23700b30",
        "colab": {
          "base_uri": "https://localhost:8080/"
        }
      },
      "source": [
        "!python -m pip install -r requirements.txt"
      ],
      "execution_count": 4,
      "outputs": [
        {
          "output_type": "stream",
          "text": [
            "Requirement already satisfied: matplotlib in /usr/local/lib/python3.6/dist-packages (from -r requirements.txt (line 1)) (3.2.2)\n",
            "Requirement already satisfied: scikit-image in /usr/local/lib/python3.6/dist-packages (from -r requirements.txt (line 2)) (0.16.2)\n",
            "Requirement already satisfied: scikit-learn in /usr/local/lib/python3.6/dist-packages (from -r requirements.txt (line 3)) (0.22.2.post1)\n",
            "Requirement already satisfied: scipy in /usr/local/lib/python3.6/dist-packages (from -r requirements.txt (line 4)) (1.4.1)\n",
            "Requirement already satisfied: numpy in /usr/local/lib/python3.6/dist-packages (from -r requirements.txt (line 5)) (1.19.4)\n",
            "Requirement already satisfied: torch in /usr/local/lib/python3.6/dist-packages (from -r requirements.txt (line 6)) (1.7.0+cu101)\n",
            "Requirement already satisfied: torchvision in /usr/local/lib/python3.6/dist-packages (from -r requirements.txt (line 7)) (0.8.1+cu101)\n",
            "Requirement already satisfied: kiwisolver>=1.0.1 in /usr/local/lib/python3.6/dist-packages (from matplotlib->-r requirements.txt (line 1)) (1.3.1)\n",
            "Requirement already satisfied: python-dateutil>=2.1 in /usr/local/lib/python3.6/dist-packages (from matplotlib->-r requirements.txt (line 1)) (2.8.1)\n",
            "Requirement already satisfied: pyparsing!=2.0.4,!=2.1.2,!=2.1.6,>=2.0.1 in /usr/local/lib/python3.6/dist-packages (from matplotlib->-r requirements.txt (line 1)) (2.4.7)\n",
            "Requirement already satisfied: cycler>=0.10 in /usr/local/lib/python3.6/dist-packages (from matplotlib->-r requirements.txt (line 1)) (0.10.0)\n",
            "Requirement already satisfied: PyWavelets>=0.4.0 in /usr/local/lib/python3.6/dist-packages (from scikit-image->-r requirements.txt (line 2)) (1.1.1)\n",
            "Requirement already satisfied: networkx>=2.0 in /usr/local/lib/python3.6/dist-packages (from scikit-image->-r requirements.txt (line 2)) (2.5)\n",
            "Requirement already satisfied: pillow>=4.3.0 in /usr/local/lib/python3.6/dist-packages (from scikit-image->-r requirements.txt (line 2)) (7.0.0)\n",
            "Requirement already satisfied: imageio>=2.3.0 in /usr/local/lib/python3.6/dist-packages (from scikit-image->-r requirements.txt (line 2)) (2.4.1)\n",
            "Requirement already satisfied: joblib>=0.11 in /usr/local/lib/python3.6/dist-packages (from scikit-learn->-r requirements.txt (line 3)) (1.0.0)\n",
            "Requirement already satisfied: dataclasses in /usr/local/lib/python3.6/dist-packages (from torch->-r requirements.txt (line 6)) (0.8)\n",
            "Requirement already satisfied: typing-extensions in /usr/local/lib/python3.6/dist-packages (from torch->-r requirements.txt (line 6)) (3.7.4.3)\n",
            "Requirement already satisfied: future in /usr/local/lib/python3.6/dist-packages (from torch->-r requirements.txt (line 6)) (0.16.0)\n",
            "Requirement already satisfied: six>=1.5 in /usr/local/lib/python3.6/dist-packages (from python-dateutil>=2.1->matplotlib->-r requirements.txt (line 1)) (1.15.0)\n",
            "Requirement already satisfied: decorator>=4.3.0 in /usr/local/lib/python3.6/dist-packages (from networkx>=2.0->scikit-image->-r requirements.txt (line 2)) (4.4.2)\n"
          ],
          "name": "stdout"
        }
      ]
    },
    {
      "cell_type": "code",
      "metadata": {
        "id": "JyW2eYekVikL",
        "outputId": "edaceabc-db73-412c-ec58-6d7665f5eb6f",
        "colab": {
          "base_uri": "https://localhost:8080/"
        }
      },
      "source": [
        "!python main_train.py --input_name mountains3.png"
      ],
      "execution_count": 5,
      "outputs": [
        {
          "output_type": "stream",
          "text": [
            "Random Seed:  5177\n",
            "GeneratorConcatSkip2CleanAdd(\n",
            "  (head): ConvBlock(\n",
            "    (conv): Conv2d(3, 32, kernel_size=(3, 3), stride=(1, 1))\n",
            "    (norm): BatchNorm2d(32, eps=1e-05, momentum=0.1, affine=True, track_running_stats=True)\n",
            "    (LeakyRelu): LeakyReLU(negative_slope=0.2, inplace=True)\n",
            "  )\n",
            "  (body): Sequential(\n",
            "    (block1): ConvBlock(\n",
            "      (conv): Conv2d(32, 32, kernel_size=(3, 3), stride=(1, 1))\n",
            "      (norm): BatchNorm2d(32, eps=1e-05, momentum=0.1, affine=True, track_running_stats=True)\n",
            "      (LeakyRelu): LeakyReLU(negative_slope=0.2, inplace=True)\n",
            "    )\n",
            "    (block2): ConvBlock(\n",
            "      (conv): Conv2d(32, 32, kernel_size=(3, 3), stride=(1, 1))\n",
            "      (norm): BatchNorm2d(32, eps=1e-05, momentum=0.1, affine=True, track_running_stats=True)\n",
            "      (LeakyRelu): LeakyReLU(negative_slope=0.2, inplace=True)\n",
            "    )\n",
            "    (block3): ConvBlock(\n",
            "      (conv): Conv2d(32, 32, kernel_size=(3, 3), stride=(1, 1))\n",
            "      (norm): BatchNorm2d(32, eps=1e-05, momentum=0.1, affine=True, track_running_stats=True)\n",
            "      (LeakyRelu): LeakyReLU(negative_slope=0.2, inplace=True)\n",
            "    )\n",
            "  )\n",
            "  (tail): Sequential(\n",
            "    (0): Conv2d(32, 3, kernel_size=(3, 3), stride=(1, 1))\n",
            "    (1): Tanh()\n",
            "  )\n",
            ")\n",
            "WDiscriminator(\n",
            "  (head): ConvBlock(\n",
            "    (conv): Conv2d(3, 32, kernel_size=(3, 3), stride=(1, 1))\n",
            "    (norm): BatchNorm2d(32, eps=1e-05, momentum=0.1, affine=True, track_running_stats=True)\n",
            "    (LeakyRelu): LeakyReLU(negative_slope=0.2, inplace=True)\n",
            "  )\n",
            "  (body): Sequential(\n",
            "    (block1): ConvBlock(\n",
            "      (conv): Conv2d(32, 32, kernel_size=(3, 3), stride=(1, 1))\n",
            "      (norm): BatchNorm2d(32, eps=1e-05, momentum=0.1, affine=True, track_running_stats=True)\n",
            "      (LeakyRelu): LeakyReLU(negative_slope=0.2, inplace=True)\n",
            "    )\n",
            "    (block2): ConvBlock(\n",
            "      (conv): Conv2d(32, 32, kernel_size=(3, 3), stride=(1, 1))\n",
            "      (norm): BatchNorm2d(32, eps=1e-05, momentum=0.1, affine=True, track_running_stats=True)\n",
            "      (LeakyRelu): LeakyReLU(negative_slope=0.2, inplace=True)\n",
            "    )\n",
            "    (block3): ConvBlock(\n",
            "      (conv): Conv2d(32, 32, kernel_size=(3, 3), stride=(1, 1))\n",
            "      (norm): BatchNorm2d(32, eps=1e-05, momentum=0.1, affine=True, track_running_stats=True)\n",
            "      (LeakyRelu): LeakyReLU(negative_slope=0.2, inplace=True)\n",
            "    )\n",
            "  )\n",
            "  (tail): Conv2d(32, 1, kernel_size=(3, 3), stride=(1, 1))\n",
            ")\n",
            "Traceback (most recent call last):\n",
            "  File \"main_train.py\", line 29, in <module>\n",
            "    train(opt, Gs, Zs, reals, NoiseAmp)\n",
            "  File \"/content/SinGAN/SinGAN/training.py\", line 39, in train\n",
            "    z_curr,in_s,G_curr = train_single_scale(D_curr,G_curr,reals,Gs,Zs,in_s,NoiseAmp,opt)\n",
            "  File \"/content/SinGAN/SinGAN/training.py\", line 178, in train_single_scale\n",
            "    errG.backward(retain_graph=True)\n",
            "  File \"/usr/local/lib/python3.6/dist-packages/torch/tensor.py\", line 221, in backward\n",
            "    torch.autograd.backward(self, gradient, retain_graph, create_graph)\n",
            "  File \"/usr/local/lib/python3.6/dist-packages/torch/autograd/__init__.py\", line 132, in backward\n",
            "    allow_unreachable=True)  # allow_unreachable flag\n",
            "RuntimeError: one of the variables needed for gradient computation has been modified by an inplace operation: [torch.cuda.FloatTensor [3, 32, 3, 3]] is at version 2; expected version 1 instead. Hint: enable anomaly detection to find the operation that failed to compute its gradient, with torch.autograd.set_detect_anomaly(True).\n"
          ],
          "name": "stdout"
        }
      ]
    },
    {
      "cell_type": "code",
      "metadata": {
        "id": "99IOsWxJV7-C"
      },
      "source": [
        ""
      ],
      "execution_count": null,
      "outputs": []
    }
  ]
}